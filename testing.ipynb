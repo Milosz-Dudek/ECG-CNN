{
 "cells": [
  {
   "cell_type": "code",
   "execution_count": 1,
   "source": [
    "import numpy as np\r\n",
    "import pandas as pd \r\n",
    "import seaborn as sns \r\n",
    "import matplotlib.pyplot as plt \r\n",
    "import tensorflow as tf\r\n",
    "import itertools\r\n",
    "from keras.layers import Dense, Convolution1D, MaxPool1D, Flatten, Dropout, Input\r\n",
    "from keras.models import Model\r\n",
    "from keras.utils.np_utils import to_categorical\r\n",
    "from keras.regularizers import L2\r\n",
    "from sklearn.metrics import confusion_matrix\r\n",
    "from imblearn.over_sampling import ADASYN"
   ],
   "outputs": [],
   "metadata": {}
  },
  {
   "cell_type": "markdown",
   "source": [
    "## Dataset uploading "
   ],
   "metadata": {}
  },
  {
   "cell_type": "code",
   "execution_count": 2,
   "source": [
    "test_data = pd.read_csv(\"mitbih_test.csv\", header=None)\r\n",
    "train_data = pd.read_csv(\"mitbih_train.csv\", header=None)"
   ],
   "outputs": [],
   "metadata": {}
  },
  {
   "cell_type": "code",
   "execution_count": 3,
   "source": [
    "tf.debugging.set_log_device_placement(True)\r\n",
    "tf.config.list_physical_devices('GPU')"
   ],
   "outputs": [
    {
     "output_type": "execute_result",
     "data": {
      "text/plain": [
       "[PhysicalDevice(name='/physical_device:GPU:0', device_type='GPU')]"
      ]
     },
     "metadata": {},
     "execution_count": 3
    }
   ],
   "metadata": {}
  },
  {
   "cell_type": "markdown",
   "source": [
    "## Visualising the distribution of the dataset "
   ],
   "metadata": {}
  },
  {
   "cell_type": "code",
   "execution_count": 4,
   "source": [
    "train_data = train_data.rename(columns={187: 'classes'})\r\n",
    "sns.countplot(train_data['classes'], label='count of individual classes').set(title='Train data distribution')\r\n",
    "train_data['classes'].value_counts()\r\n",
    "len(train_data['classes'])"
   ],
   "outputs": [
    {
     "output_type": "stream",
     "name": "stderr",
     "text": [
      "C:\\Users\\Miłosz\\AppData\\Roaming\\Python\\Python39\\site-packages\\seaborn\\_decorators.py:36: FutureWarning: Pass the following variable as a keyword arg: x. From version 0.12, the only valid positional argument will be `data`, and passing other arguments without an explicit keyword will result in an error or misinterpretation.\n",
      "  warnings.warn(\n"
     ]
    },
    {
     "output_type": "execute_result",
     "data": {
      "text/plain": [
       "87554"
      ]
     },
     "metadata": {},
     "execution_count": 4
    },
    {
     "output_type": "display_data",
     "data": {
      "image/png": "[encoded data removed]",
      "text/plain": [
       "<Figure size 432x288 with 1 Axes>"
      ]
     },
     "metadata": {
      "needs_background": "light"
     }
    }
   ],
   "metadata": {}
  },
  {
   "cell_type": "code",
   "execution_count": 5,
   "source": [
    "test_data = test_data.rename(columns={187: 'classes'})\r\n",
    "sns.countplot(test_data['classes'], label='count of individual classes').set(title='Test data distribution')\r\n",
    "test_data['classes'].value_counts()"
   ],
   "outputs": [
    {
     "output_type": "stream",
     "name": "stderr",
     "text": [
      "C:\\Users\\Miłosz\\AppData\\Roaming\\Python\\Python39\\site-packages\\seaborn\\_decorators.py:36: FutureWarning: Pass the following variable as a keyword arg: x. From version 0.12, the only valid positional argument will be `data`, and passing other arguments without an explicit keyword will result in an error or misinterpretation.\n",
      "  warnings.warn(\n"
     ]
    },
    {
     "output_type": "execute_result",
     "data": {
      "text/plain": [
       "0.0    18118\n",
       "4.0     1608\n",
       "2.0     1448\n",
       "1.0      556\n",
       "3.0      162\n",
       "Name: classes, dtype: int64"
      ]
     },
     "metadata": {},
     "execution_count": 5
    },
    {
     "output_type": "display_data",
     "data": {
      "image/png": "[encoded data removed]",
      "text/plain": [
       "<Figure size 432x288 with 1 Axes>"
      ]
     },
     "metadata": {
      "needs_background": "light"
     }
    }
   ],
   "metadata": {}
  },
  {
   "cell_type": "markdown",
   "source": [
    "## Building the convolution neural network "
   ],
   "metadata": {}
  },
  {
   "cell_type": "code",
   "execution_count": 6,
   "source": [
    "class ConvNN(object):\r\n",
    "    def __init__(self, train_data = None, validation_data = None, batchsize=64,\r\n",
    "                 epochs=20, learning_rate=1e-4, filepath = None,\r\n",
    "                 dropout_rate=0.5, random_seed=None):\r\n",
    "        self.train_data = train_data\r\n",
    "        self.validation_data = validation_data\r\n",
    "        self.batchsize = batchsize\r\n",
    "        self.epochs = epochs\r\n",
    "        self.learning_rate = learning_rate\r\n",
    "        self.dropout_rate = dropout_rate\r\n",
    "        self.filepath = filepath\r\n",
    "            \r\n",
    "                \r\n",
    "    def train(self):\r\n",
    "\r\n",
    "        inputs = Input(shape=((187, 1)), name='inputs_cnn')\r\n",
    "        self.train_data[0] = self.train_data[0].reshape(len(self.train_data[0]), 187, 1)\r\n",
    "        self.validation_data[0] = self.validation_data[0].reshape(len(self.validation_data[0]), 187, 1)\r\n",
    "\r\n",
    "        ## First layer: splot_1\r\n",
    "        h1 = Convolution1D(kernel_size=(5), \r\n",
    "                            filters=64, \r\n",
    "                            kernel_regularizer=L2(l=0.01),\r\n",
    "                            activation='relu')(inputs)\r\n",
    "        ## Max pooling layer \r\n",
    "        h1_pool = MaxPool1D(pool_size=(5), \r\n",
    "                            strides=(2),\r\n",
    "                            padding='same')(h1)\r\n",
    "        ## Second layer: splot_2\r\n",
    "        h2 = Convolution1D(kernel_size=(5), \r\n",
    "                            filters=64, \r\n",
    "                            kernel_regularizer=L2(l=0.01),\r\n",
    "                            activation='relu')(h1_pool)\r\n",
    "        ## Max pooling layer\r\n",
    "        h2_pool = MaxPool1D(pool_size=(5), \r\n",
    "                            strides=(2),\r\n",
    "                            padding='same')(h2)\r\n",
    "        ## Thrid layer: splot_3\r\n",
    "        h3 = Convolution1D(kernel_size=(5), \r\n",
    "                            filters=64, \r\n",
    "                            kernel_regularizer=L2(l=0.01),\r\n",
    "                            activation='relu')(h2_pool)\r\n",
    "        ## Max pooling layer\r\n",
    "        h3_pool = MaxPool1D(pool_size=(5), \r\n",
    "                            strides=(2),\r\n",
    "                            padding='same')(h3)\r\n",
    "\r\n",
    "\r\n",
    "        ## Fourth and fifth layer: fully connected \r\n",
    "        flatted_h4_pool = Flatten()(h3_pool)\r\n",
    "        h4 = Dense(units=256, activation='relu')(flatted_h4_pool)\r\n",
    "        h5 = Dense(units=128, activation='relu')(h4)\r\n",
    "\r\n",
    "        ## Dropout\r\n",
    "        drop = Dropout(rate=self.dropout_rate)\r\n",
    "        h5_drop = drop(h5, training = True)\r\n",
    "\r\n",
    "        ## Sixth layer: fully connected \r\n",
    "        h6 = Dense(5, activation='Softmax', name='output')(h5_drop)\r\n",
    "\r\n",
    "        model = Model(inputs=inputs, outputs=h6)\r\n",
    "\r\n",
    "        opt = tf.keras.optimizers.Adam(learning_rate=self.learning_rate,\r\n",
    "                                beta_1 = 0.9, beta_2 = 0.999)\r\n",
    "        model.compile(loss='categorical_crossentropy', optimizer=opt, metrics=['accuracy'])\r\n",
    "\r\n",
    "        my_callbacks = [     \r\n",
    "            tf.keras.callbacks.ModelCheckpoint(self.filepath, save_best_only=True, monitor='val_accuracy'),\r\n",
    "            tf.keras.callbacks.EarlyStopping(patience=5),\r\n",
    "            tf.keras.callbacks.ReduceLROnPlateau(factor=0.5, patience=3, min_lr=1e-5)\r\n",
    "        ]\r\n",
    "\r\n",
    "        history = model.fit(self.train_data[0], self.train_data[1],\r\n",
    "        batch_size=self.batchsize, epochs=self.epochs,\r\n",
    "        validation_data=tuple(self.validation_data),\r\n",
    "        callbacks=my_callbacks)\r\n",
    "\r\n",
    "        return model, history"
   ],
   "outputs": [],
   "metadata": {}
  },
  {
   "cell_type": "markdown",
   "source": [
    "## Making X and y sets "
   ],
   "metadata": {}
  },
  {
   "cell_type": "code",
   "execution_count": 7,
   "source": [
    "y_train = train_data['classes'].astype(int)\r\n",
    "X_train = train_data.drop(columns=['classes'])\r\n",
    "\r\n",
    "y_test = test_data['classes'].astype(int)\r\n",
    "X_test = test_data.drop(columns=['classes'])"
   ],
   "outputs": [],
   "metadata": {}
  },
  {
   "cell_type": "markdown",
   "source": [
    "## Oversampling the data by ADASYN algorithm  "
   ],
   "metadata": {}
  },
  {
   "cell_type": "code",
   "execution_count": 8,
   "source": [
    "y_values = y_train.values\r\n",
    "dict_classes1 = {1: np.sum(y_values==1)*8, \r\n",
    "                2: np.sum(y_values==2)*8, \r\n",
    "                3: np.sum(y_values==3)*8, \r\n",
    "                4: np.sum(y_values==4)*8}\r\n",
    "\r\n",
    "X_train_ovr, y_train_ovr = ADASYN(sampling_strategy=dict_classes1, random_state=0).fit_resample(X_train, y_train)"
   ],
   "outputs": [],
   "metadata": {}
  },
  {
   "cell_type": "markdown",
   "source": [
    "## Visualising the distribution of the oversampled dataset "
   ],
   "metadata": {}
  },
  {
   "cell_type": "code",
   "execution_count": 9,
   "source": [
    "train_data_ovr = pd.concat([X_train_ovr, y_train_ovr], axis=1)\r\n",
    "sns.countplot(train_data_ovr['classes'], label='count of individual classes after oversampling').set(title='')\r\n",
    "train_data_ovr['classes'].value_counts()"
   ],
   "outputs": [
    {
     "output_type": "stream",
     "name": "stderr",
     "text": [
      "C:\\Users\\Miłosz\\AppData\\Roaming\\Python\\Python39\\site-packages\\seaborn\\_decorators.py:36: FutureWarning: Pass the following variable as a keyword arg: x. From version 0.12, the only valid positional argument will be `data`, and passing other arguments without an explicit keyword will result in an error or misinterpretation.\n",
      "  warnings.warn(\n"
     ]
    },
    {
     "output_type": "execute_result",
     "data": {
      "text/plain": [
       "0    72471\n",
       "4    51406\n",
       "2    46010\n",
       "1    17957\n",
       "3     5114\n",
       "Name: classes, dtype: int64"
      ]
     },
     "metadata": {},
     "execution_count": 9
    },
    {
     "output_type": "display_data",
     "data": {
      "image/png": "[encoded data removed]",
      "text/plain": [
       "<Figure size 432x288 with 1 Axes>"
      ]
     },
     "metadata": {
      "needs_background": "light"
     }
    }
   ],
   "metadata": {}
  },
  {
   "cell_type": "markdown",
   "source": [
    "## Splitting the data for the train and validation "
   ],
   "metadata": {}
  },
  {
   "cell_type": "code",
   "execution_count": 10,
   "source": [
    "from sklearn.model_selection import train_test_split\r\n",
    "\r\n",
    "X_train = X_train_ovr.to_numpy()\r\n",
    "y_train = y_train_ovr.to_numpy()\r\n",
    "\r\n",
    "X_train, X_valid, y_train, y_valid = train_test_split(X_train, y_train, test_size=0.1, random_state=123)"
   ],
   "outputs": [],
   "metadata": {}
  },
  {
   "cell_type": "markdown",
   "source": [
    "## One-Hot Encoding "
   ],
   "metadata": {}
  },
  {
   "cell_type": "code",
   "execution_count": 11,
   "source": [
    "y_train = to_categorical(y_train)\r\n",
    "y_valid = to_categorical(y_valid)\r\n",
    "y_test = to_categorical(y_test)"
   ],
   "outputs": [],
   "metadata": {}
  },
  {
   "cell_type": "markdown",
   "source": [
    "## Running the model "
   ],
   "metadata": {}
  },
  {
   "cell_type": "code",
   "execution_count": 12,
   "source": [
    "tf.debugging.set_log_device_placement(False)\r\n",
    "\r\n",
    "cnn = ConvNN(batchsize=64, train_data = [X_train, y_train], \r\n",
    "                validation_data=[X_valid, y_valid],\r\n",
    "                epochs=90, learning_rate=1e-3, \r\n",
    "                dropout_rate=0.5, filepath = 'C:\\Projekty\\ECG-CNN\\model_saver\\model.h5',\r\n",
    "                random_seed=123)\r\n",
    "\r\n",
    "model, history = cnn.train()"
   ],
   "outputs": [
    {
     "output_type": "stream",
     "name": "stdout",
     "text": [
      "Epoch 1/90\n",
      "2714/2714 [==============================] - 23s 7ms/step - loss: 0.5500 - accuracy: 0.8391 - val_loss: 0.3278 - val_accuracy: 0.9147\n",
      "Epoch 2/90\n",
      "2714/2714 [==============================] - 20s 7ms/step - loss: 0.2698 - accuracy: 0.9322 - val_loss: 0.2536 - val_accuracy: 0.9349\n",
      "Epoch 3/90\n",
      "2714/2714 [==============================] - 20s 7ms/step - loss: 0.2070 - accuracy: 0.9505 - val_loss: 0.1765 - val_accuracy: 0.9586\n",
      "Epoch 4/90\n",
      "2714/2714 [==============================] - 19s 7ms/step - loss: 0.1723 - accuracy: 0.9602 - val_loss: 0.1748 - val_accuracy: 0.9584\n",
      "Epoch 5/90\n",
      "2714/2714 [==============================] - 20s 7ms/step - loss: 0.1543 - accuracy: 0.9651 - val_loss: 0.1346 - val_accuracy: 0.9715\n",
      "Epoch 6/90\n",
      "2714/2714 [==============================] - 19s 7ms/step - loss: 0.1358 - accuracy: 0.9702 - val_loss: 0.1302 - val_accuracy: 0.9722\n",
      "Epoch 7/90\n",
      "2714/2714 [==============================] - 18s 7ms/step - loss: 0.1264 - accuracy: 0.9731 - val_loss: 0.1251 - val_accuracy: 0.9709\n",
      "Epoch 8/90\n",
      "2714/2714 [==============================] - 18s 7ms/step - loss: 0.1193 - accuracy: 0.9750 - val_loss: 0.1166 - val_accuracy: 0.9751\n",
      "Epoch 9/90\n",
      "2714/2714 [==============================] - 18s 7ms/step - loss: 0.1134 - accuracy: 0.9765 - val_loss: 0.1138 - val_accuracy: 0.9772\n",
      "Epoch 10/90\n",
      "2714/2714 [==============================] - 19s 7ms/step - loss: 0.1075 - accuracy: 0.9781 - val_loss: 0.1087 - val_accuracy: 0.9779\n",
      "Epoch 11/90\n",
      "2714/2714 [==============================] - 20s 7ms/step - loss: 0.1028 - accuracy: 0.9800 - val_loss: 0.1139 - val_accuracy: 0.9761\n",
      "Epoch 12/90\n",
      "2714/2714 [==============================] - 20s 7ms/step - loss: 0.0999 - accuracy: 0.9803 - val_loss: 0.1307 - val_accuracy: 0.9689\n",
      "Epoch 13/90\n",
      "2714/2714 [==============================] - 20s 7ms/step - loss: 0.0971 - accuracy: 0.9809 - val_loss: 0.0994 - val_accuracy: 0.9818\n",
      "Epoch 14/90\n",
      "2714/2714 [==============================] - 20s 7ms/step - loss: 0.0944 - accuracy: 0.9818 - val_loss: 0.1452 - val_accuracy: 0.9649\n",
      "Epoch 15/90\n",
      "2714/2714 [==============================] - 19s 7ms/step - loss: 0.0916 - accuracy: 0.9827 - val_loss: 0.0968 - val_accuracy: 0.9797\n",
      "Epoch 16/90\n",
      "2714/2714 [==============================] - 20s 7ms/step - loss: 0.0890 - accuracy: 0.9831 - val_loss: 0.0934 - val_accuracy: 0.9831\n",
      "Epoch 17/90\n",
      "2714/2714 [==============================] - 20s 7ms/step - loss: 0.0907 - accuracy: 0.9827 - val_loss: 0.1097 - val_accuracy: 0.9785\n",
      "Epoch 18/90\n",
      "2714/2714 [==============================] - 19s 7ms/step - loss: 0.0837 - accuracy: 0.9849 - val_loss: 0.1451 - val_accuracy: 0.9676\n",
      "Epoch 19/90\n",
      "2714/2714 [==============================] - 20s 7ms/step - loss: 0.0847 - accuracy: 0.9844 - val_loss: 0.0814 - val_accuracy: 0.9859\n",
      "Epoch 20/90\n",
      "2714/2714 [==============================] - 19s 7ms/step - loss: 0.0842 - accuracy: 0.9846 - val_loss: 0.0811 - val_accuracy: 0.9859\n",
      "Epoch 21/90\n",
      "2714/2714 [==============================] - 19s 7ms/step - loss: 0.0844 - accuracy: 0.9845 - val_loss: 0.0992 - val_accuracy: 0.9777\n",
      "Epoch 22/90\n",
      "2714/2714 [==============================] - 19s 7ms/step - loss: 0.0804 - accuracy: 0.9856 - val_loss: 0.0878 - val_accuracy: 0.9831\n",
      "Epoch 23/90\n",
      "2714/2714 [==============================] - 18s 7ms/step - loss: 0.0786 - accuracy: 0.9860 - val_loss: 0.0744 - val_accuracy: 0.9890\n",
      "Epoch 24/90\n",
      "2714/2714 [==============================] - 18s 7ms/step - loss: 0.0814 - accuracy: 0.9854 - val_loss: 0.0947 - val_accuracy: 0.9800\n",
      "Epoch 25/90\n",
      "2714/2714 [==============================] - 19s 7ms/step - loss: 0.0787 - accuracy: 0.9863 - val_loss: 0.0797 - val_accuracy: 0.9878\n",
      "Epoch 26/90\n",
      "2714/2714 [==============================] - 18s 7ms/step - loss: 0.0779 - accuracy: 0.9865 - val_loss: 0.0700 - val_accuracy: 0.9891\n",
      "Epoch 27/90\n",
      "2714/2714 [==============================] - 18s 7ms/step - loss: 0.0773 - accuracy: 0.9865 - val_loss: 0.0837 - val_accuracy: 0.9860\n",
      "Epoch 28/90\n",
      "2714/2714 [==============================] - 19s 7ms/step - loss: 0.0765 - accuracy: 0.9865 - val_loss: 0.0727 - val_accuracy: 0.9877\n",
      "Epoch 29/90\n",
      "2714/2714 [==============================] - 19s 7ms/step - loss: 0.0759 - accuracy: 0.9870 - val_loss: 0.0830 - val_accuracy: 0.9843\n",
      "Epoch 30/90\n",
      "2714/2714 [==============================] - 19s 7ms/step - loss: 0.0568 - accuracy: 0.9925 - val_loss: 0.0672 - val_accuracy: 0.9901\n",
      "Epoch 31/90\n",
      "2714/2714 [==============================] - 19s 7ms/step - loss: 0.0539 - accuracy: 0.9922 - val_loss: 0.0646 - val_accuracy: 0.9883\n",
      "Epoch 32/90\n",
      "2714/2714 [==============================] - 19s 7ms/step - loss: 0.0517 - accuracy: 0.9925 - val_loss: 0.0569 - val_accuracy: 0.9912\n",
      "Epoch 33/90\n",
      "2714/2714 [==============================] - 19s 7ms/step - loss: 0.0504 - accuracy: 0.9925 - val_loss: 0.0570 - val_accuracy: 0.9912\n",
      "Epoch 34/90\n",
      "2714/2714 [==============================] - 18s 7ms/step - loss: 0.0495 - accuracy: 0.9925 - val_loss: 0.0751 - val_accuracy: 0.9848\n",
      "Epoch 35/90\n",
      "2714/2714 [==============================] - 18s 7ms/step - loss: 0.0487 - accuracy: 0.9928 - val_loss: 0.0689 - val_accuracy: 0.9873\n",
      "Epoch 36/90\n",
      "2714/2714 [==============================] - 19s 7ms/step - loss: 0.0399 - accuracy: 0.9953 - val_loss: 0.0470 - val_accuracy: 0.9934\n",
      "Epoch 37/90\n",
      "2714/2714 [==============================] - 19s 7ms/step - loss: 0.0385 - accuracy: 0.9952 - val_loss: 0.0445 - val_accuracy: 0.9936\n",
      "Epoch 38/90\n",
      "2714/2714 [==============================] - 18s 7ms/step - loss: 0.0373 - accuracy: 0.9955 - val_loss: 0.0472 - val_accuracy: 0.9923\n",
      "Epoch 39/90\n",
      "2714/2714 [==============================] - 19s 7ms/step - loss: 0.0363 - accuracy: 0.9955 - val_loss: 0.0438 - val_accuracy: 0.9927\n",
      "Epoch 40/90\n",
      "2714/2714 [==============================] - 19s 7ms/step - loss: 0.0356 - accuracy: 0.9956 - val_loss: 0.0440 - val_accuracy: 0.9928\n",
      "Epoch 41/90\n",
      "2714/2714 [==============================] - 19s 7ms/step - loss: 0.0351 - accuracy: 0.9957 - val_loss: 0.0469 - val_accuracy: 0.9931\n",
      "Epoch 42/90\n",
      "2714/2714 [==============================] - 19s 7ms/step - loss: 0.0354 - accuracy: 0.9952 - val_loss: 0.0442 - val_accuracy: 0.9927\n",
      "Epoch 43/90\n",
      "2714/2714 [==============================] - 19s 7ms/step - loss: 0.0303 - accuracy: 0.9972 - val_loss: 0.0394 - val_accuracy: 0.9948\n",
      "Epoch 44/90\n",
      "2714/2714 [==============================] - 19s 7ms/step - loss: 0.0297 - accuracy: 0.9970 - val_loss: 0.0385 - val_accuracy: 0.9937\n",
      "Epoch 45/90\n",
      "2714/2714 [==============================] - 18s 7ms/step - loss: 0.0293 - accuracy: 0.9969 - val_loss: 0.0358 - val_accuracy: 0.9953\n",
      "Epoch 46/90\n",
      "2714/2714 [==============================] - 19s 7ms/step - loss: 0.0288 - accuracy: 0.9970 - val_loss: 0.0369 - val_accuracy: 0.9948\n",
      "Epoch 47/90\n",
      "2714/2714 [==============================] - 19s 7ms/step - loss: 0.0284 - accuracy: 0.9970 - val_loss: 0.0380 - val_accuracy: 0.9941\n",
      "Epoch 48/90\n",
      "2714/2714 [==============================] - 19s 7ms/step - loss: 0.0284 - accuracy: 0.9970 - val_loss: 0.0365 - val_accuracy: 0.9949\n",
      "Epoch 49/90\n",
      "2714/2714 [==============================] - 19s 7ms/step - loss: 0.0261 - accuracy: 0.9977 - val_loss: 0.0338 - val_accuracy: 0.9955\n",
      "Epoch 50/90\n",
      "2714/2714 [==============================] - 20s 7ms/step - loss: 0.0256 - accuracy: 0.9978 - val_loss: 0.0332 - val_accuracy: 0.9958\n",
      "Epoch 51/90\n",
      "2714/2714 [==============================] - 19s 7ms/step - loss: 0.0256 - accuracy: 0.9977 - val_loss: 0.0361 - val_accuracy: 0.9945\n",
      "Epoch 52/90\n",
      "2714/2714 [==============================] - 19s 7ms/step - loss: 0.0253 - accuracy: 0.9977 - val_loss: 0.0343 - val_accuracy: 0.9957\n",
      "Epoch 53/90\n",
      "2714/2714 [==============================] - 19s 7ms/step - loss: 0.0251 - accuracy: 0.9978 - val_loss: 0.0339 - val_accuracy: 0.9951\n",
      "Epoch 54/90\n",
      "2714/2714 [==============================] - 18s 7ms/step - loss: 0.0240 - accuracy: 0.9980 - val_loss: 0.0316 - val_accuracy: 0.9956\n",
      "Epoch 55/90\n",
      "2714/2714 [==============================] - 19s 7ms/step - loss: 0.0239 - accuracy: 0.9980 - val_loss: 0.0337 - val_accuracy: 0.9958\n",
      "Epoch 56/90\n",
      "2714/2714 [==============================] - 19s 7ms/step - loss: 0.0236 - accuracy: 0.9982 - val_loss: 0.0329 - val_accuracy: 0.9957\n",
      "Epoch 57/90\n",
      "2714/2714 [==============================] - 18s 7ms/step - loss: 0.0235 - accuracy: 0.9983 - val_loss: 0.0317 - val_accuracy: 0.9958\n",
      "Epoch 58/90\n",
      "2714/2714 [==============================] - 18s 7ms/step - loss: 0.0229 - accuracy: 0.9984 - val_loss: 0.0321 - val_accuracy: 0.9954\n",
      "Epoch 59/90\n",
      "2714/2714 [==============================] - 18s 7ms/step - loss: 0.0229 - accuracy: 0.9983 - val_loss: 0.0310 - val_accuracy: 0.9961\n",
      "Epoch 60/90\n",
      "2714/2714 [==============================] - 18s 7ms/step - loss: 0.0227 - accuracy: 0.9984 - val_loss: 0.0327 - val_accuracy: 0.9961\n",
      "Epoch 61/90\n",
      "2714/2714 [==============================] - 18s 7ms/step - loss: 0.0227 - accuracy: 0.9983 - val_loss: 0.0337 - val_accuracy: 0.9953\n",
      "Epoch 62/90\n",
      "2714/2714 [==============================] - 18s 7ms/step - loss: 0.0227 - accuracy: 0.9984 - val_loss: 0.0334 - val_accuracy: 0.9950\n",
      "Epoch 63/90\n",
      "2714/2714 [==============================] - 18s 7ms/step - loss: 0.0226 - accuracy: 0.9984 - val_loss: 0.0316 - val_accuracy: 0.9960\n",
      "Epoch 64/90\n",
      "2714/2714 [==============================] - 19s 7ms/step - loss: 0.0224 - accuracy: 0.9985 - val_loss: 0.0319 - val_accuracy: 0.9958\n"
     ]
    }
   ],
   "metadata": {}
  },
  {
   "cell_type": "markdown",
   "source": [
    "## Model Training History"
   ],
   "metadata": {}
  },
  {
   "cell_type": "code",
   "execution_count": 13,
   "source": [
    "print(history.history.keys())\r\n",
    "# summarize history for accuracy\r\n",
    "plt.figure(1, figsize=(12, 8))\r\n",
    "plt.plot(history.history['accuracy'])\r\n",
    "plt.plot(history.history['val_accuracy'])\r\n",
    "plt.title('Model accuracy')\r\n",
    "plt.ylabel('accuracy')\r\n",
    "plt.xlabel('epochs')\r\n",
    "plt.legend(['train', 'test'], loc='upper left')\r\n",
    "plt.show()\r\n",
    "# summarize history for loss\r\n",
    "plt.figure(2, figsize=(12, 8))\r\n",
    "plt.plot(history.history['loss'])\r\n",
    "plt.plot(history.history['val_loss'])\r\n",
    "plt.title('model loss')\r\n",
    "plt.ylabel('loss')\r\n",
    "plt.xlabel('epoch')\r\n",
    "plt.legend(['train', 'test'], loc='upper left')\r\n",
    "plt.show()"
   ],
   "outputs": [
    {
     "output_type": "stream",
     "name": "stdout",
     "text": [
      "dict_keys(['loss', 'accuracy', 'val_loss', 'val_accuracy', 'lr'])\n"
     ]
    },
    {
     "output_type": "display_data",
     "data": {
      "image/png": "[encoded data removed]",
      "text/plain": [
       "<Figure size 864x576 with 1 Axes>"
      ]
     },
     "metadata": {
      "needs_background": "light"
     }
    },
    {
     "output_type": "display_data",
     "data": {
      "image/png": "[encoded data removed]",
      "text/plain": [
       "<Figure size 864x576 with 1 Axes>"
      ]
     },
     "metadata": {
      "needs_background": "light"
     }
    }
   ],
   "metadata": {}
  },
  {
   "cell_type": "markdown",
   "source": [
    "## Best model summary "
   ],
   "metadata": {}
  },
  {
   "cell_type": "code",
   "execution_count": 32,
   "source": [
    "from keras.models import load_model\r\n",
    "model = load_model('model_saver\\model.h5')\r\n",
    "model.summary()"
   ],
   "outputs": [
    {
     "output_type": "stream",
     "name": "stdout",
     "text": [
      "Model: \"model\"\n",
      "_________________________________________________________________\n",
      "Layer (type)                 Output Shape              Param #   \n",
      "=================================================================\n",
      "inputs_cnn (InputLayer)      [(None, 187, 1)]          0         \n",
      "_________________________________________________________________\n",
      "conv1d (Conv1D)              (None, 183, 64)           384       \n",
      "_________________________________________________________________\n",
      "max_pooling1d (MaxPooling1D) (None, 92, 64)            0         \n",
      "_________________________________________________________________\n",
      "conv1d_1 (Conv1D)            (None, 88, 64)            20544     \n",
      "_________________________________________________________________\n",
      "max_pooling1d_1 (MaxPooling1 (None, 44, 64)            0         \n",
      "_________________________________________________________________\n",
      "conv1d_2 (Conv1D)            (None, 40, 64)            20544     \n",
      "_________________________________________________________________\n",
      "max_pooling1d_2 (MaxPooling1 (None, 20, 64)            0         \n",
      "_________________________________________________________________\n",
      "flatten (Flatten)            (None, 1280)              0         \n",
      "_________________________________________________________________\n",
      "dense (Dense)                (None, 256)               327936    \n",
      "_________________________________________________________________\n",
      "dense_1 (Dense)              (None, 128)               32896     \n",
      "_________________________________________________________________\n",
      "dropout (Dropout)            (None, 128)               0         \n",
      "_________________________________________________________________\n",
      "output (Dense)               (None, 5)                 645       \n",
      "=================================================================\n",
      "Total params: 402,949\n",
      "Trainable params: 402,949\n",
      "Non-trainable params: 0\n",
      "_________________________________________________________________\n"
     ]
    }
   ],
   "metadata": {}
  },
  {
   "cell_type": "markdown",
   "source": [
    "## Accuracy of the model "
   ],
   "metadata": {}
  },
  {
   "cell_type": "code",
   "execution_count": 33,
   "source": [
    "y_pred = model.predict(X_test)\r\n",
    "from sklearn.metrics import classification_report\r\n",
    "import matplotlib as plt \r\n",
    "print(classification_report(y_test.argmax(axis=1), y_pred.argmax(axis=1)))"
   ],
   "outputs": [
    {
     "output_type": "stream",
     "name": "stdout",
     "text": [
      "              precision    recall  f1-score   support\n",
      "\n",
      "           0       0.99      0.99      0.99     18118\n",
      "           1       0.86      0.81      0.84       556\n",
      "           2       0.95      0.96      0.95      1448\n",
      "           3       0.85      0.82      0.83       162\n",
      "           4       0.99      0.99      0.99      1608\n",
      "\n",
      "    accuracy                           0.98     21892\n",
      "   macro avg       0.93      0.91      0.92     21892\n",
      "weighted avg       0.98      0.98      0.98     21892\n",
      "\n"
     ]
    }
   ],
   "metadata": {}
  },
  {
   "cell_type": "markdown",
   "source": [
    "## Confusion matrix "
   ],
   "metadata": {}
  },
  {
   "cell_type": "code",
   "execution_count": 35,
   "source": [
    "import matplotlib.pyplot as plt \r\n",
    "from sklearn.metrics import confusion_matrix\r\n",
    "import itertools\r\n",
    "\r\n",
    "def plot_confusion_matrix(cm, classes,\r\n",
    "                          normalize=False,\r\n",
    "                          title='Confusion matrix',\r\n",
    "                          cmap=plt.cm.Blues):\r\n",
    "    \"\"\"\r\n",
    "    This function prints and plots the confusion matrix.\r\n",
    "    Normalization can be applied by setting `normalize=True`.\r\n",
    "    \"\"\"\r\n",
    "    if normalize:\r\n",
    "        cm = cm.astype('float') / cm.sum(axis=1)[:, np.newaxis]\r\n",
    "        print(\"Normalized confusion matrix\")\r\n",
    "    else:\r\n",
    "        print('Confusion matrix, without normalization')\r\n",
    "\r\n",
    "    plt.imshow(cm, interpolation='nearest', cmap=cmap)\r\n",
    "    plt.title(title)\r\n",
    "    plt.colorbar()\r\n",
    "    tick_marks = np.arange(len(classes))\r\n",
    "    plt.xticks(tick_marks, classes, rotation=45)\r\n",
    "    plt.yticks(tick_marks, classes)\r\n",
    "\r\n",
    "    fmt = '.2f' if normalize else 'd'\r\n",
    "    thresh = cm.max() / 2.\r\n",
    "    for i, j in itertools.product(range(cm.shape[0]), range(cm.shape[1])):\r\n",
    "        plt.text(j, i, format(cm[i, j], fmt),\r\n",
    "                 horizontalalignment=\"center\",\r\n",
    "                 color=\"white\" if cm[i, j] > thresh else \"black\")\r\n",
    "\r\n",
    "    plt.tight_layout()\r\n",
    "    plt.ylabel('True label')\r\n",
    "    plt.xlabel('Predicted label')\r\n",
    "\r\n",
    "# Compute confusion matrix\r\n",
    "cnf_matrix = confusion_matrix(y_test.argmax(axis=1), y_pred.argmax(axis=1))\r\n",
    "np.set_printoptions(precision=2)\r\n",
    "\r\n",
    "# Plot normalized confusion matrix\r\n",
    "plt.figure(figsize=(10, 10))\r\n",
    "plot_confusion_matrix(cnf_matrix, classes=['N', 'S', 'V', 'F', 'Q'],normalize=True,\r\n",
    "                      title='Confusion matrix, with normalization')\r\n",
    "plt.show()"
   ],
   "outputs": [
    {
     "output_type": "stream",
     "name": "stdout",
     "text": [
      "Normalized confusion matrix\n"
     ]
    },
    {
     "output_type": "display_data",
     "data": {
      "image/png": "[encoded data removed]",
      "text/plain": [
       "<Figure size 720x720 with 2 Axes>"
      ]
     },
     "metadata": {
      "needs_background": "light"
     }
    }
   ],
   "metadata": {}
  }
 ],
 "metadata": {
  "orig_nbformat": 4,
  "language_info": {
   "name": "python",
   "version": "3.9.2",
   "mimetype": "text/x-python",
   "codemirror_mode": {
    "name": "ipython",
    "version": 3
   },
   "pygments_lexer": "ipython3",
   "nbconvert_exporter": "python",
   "file_extension": ".py"
  },
  "kernelspec": {
   "name": "python3",
   "display_name": "Python 3.9.2 64-bit"
  },
  "interpreter": {
   "hash": "ac59ebe37160ed0dfa835113d9b8498d9f09ceb179beaac4002f036b9467c963"
  }
 },
 "nbformat": 4,
 "nbformat_minor": 2
}